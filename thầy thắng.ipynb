{
 "cells": [
  {
   "cell_type": "code",
   "execution_count": 1,
   "id": "7a3e4248",
   "metadata": {},
   "outputs": [
    {
     "name": "stdout",
     "output_type": "stream",
     "text": [
      "Collecting pyotp\n",
      "  Downloading pyotp-2.9.0-py3-none-any.whl.metadata (9.8 kB)\n",
      "Downloading pyotp-2.9.0-py3-none-any.whl (13 kB)\n",
      "Installing collected packages: pyotp\n",
      "Successfully installed pyotp-2.9.0\n",
      "Note: you may need to restart the kernel to use updated packages.\n"
     ]
    },
    {
     "name": "stderr",
     "output_type": "stream",
     "text": [
      "\n",
      "[notice] A new release of pip is available: 25.0.1 -> 25.1.1\n",
      "[notice] To update, run: C:\\Users\\admin\\AppData\\Local\\Microsoft\\WindowsApps\\PythonSoftwareFoundation.Python.3.11_qbz5n2kfra8p0\\python.exe -m pip install --upgrade pip\n"
     ]
    }
   ],
   "source": [
    "pip install pyotp"
   ]
  },
  {
   "cell_type": "markdown",
   "id": "4950a444",
   "metadata": {},
   "source": [
    "# BÀI THỰC HÀNH 2"
   ]
  },
  {
   "cell_type": "code",
   "execution_count": 7,
   "id": "5a71ebe9",
   "metadata": {},
   "outputs": [
    {
     "name": "stdout",
     "output_type": "stream",
     "text": [
      "Xác thực thành công!\n"
     ]
    }
   ],
   "source": [
    "import hashlib\n",
    "# Mật khẩu lưu trữ dưới dạng mã băm SHA-256\n",
    "stored_password = hashlib.sha256(b\"mypassword\").hexdigest()\n",
    "# Yêu cầu người dùng nhập mật khẩu\n",
    "password = input(\"Nhập mật khẩu: \")\n",
    "hashed_password = hashlib.sha256(password.encode()).hexdigest()\n",
    "if hashed_password == stored_password:\n",
    "    print(\"Xác thực thành công!\")\n",
    "else:\n",
    "    print(\"Xác thực thất bại!\")"
   ]
  },
  {
   "cell_type": "code",
   "execution_count": 8,
   "id": "871d3422",
   "metadata": {},
   "outputs": [
    {
     "name": "stdout",
     "output_type": "stream",
     "text": [
      "Mã OTP của bạn là: 661522\n",
      "Xác thực thành công!\n"
     ]
    }
   ],
   "source": [
    "import pyotp\n",
    "import time\n",
    "\n",
    "# Tạo khóa bí mật và mã OTP\n",
    "secret = pyotp.random_base32()\n",
    "totp = pyotp.TOTP(secret)\n",
    "\n",
    "print(\"Mã OTP của bạn là:\", totp.now())\n",
    "\n",
    "# Yêu cầu nhập mã OTP\n",
    "otp_input = input(\"Nhập mã OTP: \")\n",
    "\n",
    "# Xác thực mã OTP\n",
    "if totp.verify(otp_input):\n",
    "    print(\"Xác thực thành công!\")\n",
    "else:\n",
    "    print(\"Xác thực thất bại!\")"
   ]
  },
  {
   "cell_type": "code",
   "execution_count": 9,
   "id": "95877513",
   "metadata": {},
   "outputs": [
    {
     "name": "stdout",
     "output_type": "stream",
     "text": [
      "Xác thực mật khẩu thành công! Chuyển sang bước xác thực bằng mã OTP.\n",
      "Mã OTP của bạn là: 284966\n",
      "Xác thực hai yếu tố thành công!\n"
     ]
    }
   ],
   "source": [
    "import hashlib\n",
    "import pyotp\n",
    "import time\n",
    "\n",
    "# --- Bước 1: Xác thực bằng mật khẩu ---\n",
    "# Mật khẩu lưu trữ dưới dạng mã băm SHA-256\n",
    "# Trong ứng dụng thực tế, bạn sẽ lấy mật khẩu băm này từ cơ sở dữ liệu\n",
    "stored_password = hashlib.sha256(b\"mypassword\").hexdigest() \n",
    "\n",
    "password = input(\"Nhập mật khẩu: \")\n",
    "hashed_password = hashlib.sha256(password.encode()).hexdigest()\n",
    "\n",
    "if hashed_password == stored_password:\n",
    "    print(\"Xác thực mật khẩu thành công! Chuyển sang bước xác thực bằng mã OTP.\")\n",
    "else:\n",
    "    print(\"Xác thực mật khẩu thất bại!\")\n",
    "    exit() # Thoát chương trình nếu mật khẩu sai\n",
    "\n",
    "# --- Bước 2: Xác thực bằng mã OTP (nếu mật khẩu đúng) ---\n",
    "# Tạo khóa bí mật ngẫu nhiên cho TOTP (Time-based One-Time Password)\n",
    "secret = pyotp.random_base32()\n",
    "totp = pyotp.TOTP(secret)\n",
    "\n",
    "# In mã OTP hiện tại ra màn hình. \n",
    "# Trong thực tế, mã này sẽ được gửi qua SMS, email hoặc hiển thị trên ứng dụng xác thực\n",
    "print(\"Mã OTP của bạn là:\", totp.now())\n",
    "\n",
    "# Yêu cầu người dùng nhập mã OTP\n",
    "otp_input = input(\"Nhập mã OTP: \")\n",
    "\n",
    "# Xác thực mã OTP\n",
    "if totp.verify(otp_input):\n",
    "    print(\"Xác thực hai yếu tố thành công!\")\n",
    "else:\n",
    "    print(\"Xác thực bước 2, mã OTP thất bại!\")"
   ]
  },
  {
   "cell_type": "markdown",
   "id": "5599bafd",
   "metadata": {},
   "source": [
    "1. Tại sao xác thực hai yếu tố (2FA) lại an toàn hơn so với xác thực chỉ bằng mật khẩu?\n",
    "Xác thực hai yếu tố (2FA) an toàn hơn vì nó yêu cầu người dùng cung cấp hai thông tin khác nhau để xác minh danh tính. Thông thường gồm:\n",
    "\n",
    "Yếu tố 1: Mật khẩu – cái người dùng biết\n",
    "\n",
    "Yếu tố 2: Mã OTP từ điện thoại – cái người dùng sở hữu\n",
    "\n",
    "Việc này giúp tăng cường bảo mật vì nếu kẻ xấu lấy được mật khẩu thì họ vẫn không thể đăng nhập nếu không có thiết bị tạo mã OTP. Do đó, 2FA làm giảm rủi ro bị xâm nhập trái phép.\n",
    "\n",
    "2. Có thể cải tiến thêm tính năng bảo mật nào cho chương trình này không?\n",
    "Một số cải tiến có thể áp dụng:\n",
    "\n",
    "a. Thêm xác thực bằng OTP: Sử dụng thư viện pyotp để tạo mã xác thực hai yếu tố.\n",
    "\n",
    "b. Giới hạn số lần nhập sai: Sau 3 lần sai thì khóa chương trình hoặc ngắt kết nối.\n",
    "\n",
    "c. Ẩn mật khẩu khi nhập: Sử dụng getpass.getpass() để không hiển thị mật khẩu trên màn hình khi gõ.\n",
    "\n",
    "d. Lưu mã băm trong tệp: Thay vì viết sẵn trong mã nguồn, có thể lưu trong file hash.txt để tiện quản lý.\n",
    "\n",
    "e. Chống tấn công dò mật khẩu: Giới hạn tốc độ nhập hoặc thêm thời gian chờ sau mỗi lần sai.\n",
    "\n",
    "3. Dựa trên kết quả thực hành, Anh/Chị rút ra được bài học gì về tính bảo mật của mật khẩu và mã OTP?\n",
    "Bài học rút ra như sau:\n",
    "\n",
    "Mật khẩu không nên lưu dưới dạng văn bản gốc, cần mã hóa bằng các thuật toán như SHA-256.\n",
    "\n",
    "Mật khẩu cần đủ mạnh, nên kết hợp chữ hoa, chữ thường, số và ký tự đặc biệt.\n",
    "\n",
    "OTP giúp tăng cường độ bảo mật vì nó thay đổi liên tục và chỉ có hiệu lực trong thời gian ngắn.\n",
    "\n",
    "Khi kết hợp cả mật khẩu và OTP, tài khoản sẽ khó bị tấn công hơn, nhất là khi mật khẩu bị lộ.\n",
    "\n",
    "Từ đó thấy rằng, xác thực hai yếu tố là một biện pháp bảo mật quan trọng và nên được sử dụng ở những hệ thống yêu cầu độ an toàn cao."
   ]
  },
  {
   "cell_type": "markdown",
   "id": "f6f04044",
   "metadata": {},
   "source": [
    "# bài thực hành 1\n"
   ]
  },
  {
   "cell_type": "code",
   "execution_count": 3,
   "id": "47c2db8b",
   "metadata": {},
   "outputs": [
    {
     "name": "stdout",
     "output_type": "stream",
     "text": [
      "Requirement already satisfied: pycryptodome in c:\\users\\admin\\appdata\\local\\packages\\pythonsoftwarefoundation.python.3.11_qbz5n2kfra8p0\\localcache\\local-packages\\python311\\site-packages (3.23.0)\n",
      "Note: you may need to restart the kernel to use updated packages.\n"
     ]
    },
    {
     "name": "stderr",
     "output_type": "stream",
     "text": [
      "\n",
      "[notice] A new release of pip is available: 25.0.1 -> 25.1.1\n",
      "[notice] To update, run: C:\\Users\\admin\\AppData\\Local\\Microsoft\\WindowsApps\\PythonSoftwareFoundation.Python.3.11_qbz5n2kfra8p0\\python.exe -m pip install --upgrade pip\n"
     ]
    }
   ],
   "source": [
    "pip install pycryptodome\n"
   ]
  },
  {
   "cell_type": "code",
   "execution_count": 4,
   "id": "c79e4a6b",
   "metadata": {},
   "outputs": [
    {
     "name": "stdout",
     "output_type": "stream",
     "text": [
      "Văn bản mã hóa (AES): b\"\\x1fK\\x91\\x87\\xec\\x00f\\xd6\\xe3\\x0cgcY\\xffx\\xba\\xc4\\x1f<E\\xa8\\xb1\\xf6\\xe6\\xd5\\x0e\\x14\\xe6\\xd2\\x1a\\xfb\\x89\\xb7.)\\r\\xac\\xe0\\xa4v\\xa9TF\\xaf\\xdc\\x90\\\\\\xf4\\x15^\\xa9\\xdf\\xc63\\x05\\xf0\\xcf\\xc5\\xb8e\\xd66\\x14'\"\n",
      "Thời gian mã hóa AES: 0.0 giây\n",
      "Văn bản giải mã (AES): Hello, this is a test message for AES encryption!\n",
      "Thời gian giải mã AES: 0.002015829086303711 giây\n"
     ]
    }
   ],
   "source": [
    "from Crypto.Cipher import AES\n",
    "from Crypto.Random import get_random_bytes\n",
    "from Crypto.Util.Padding import pad, unpad\n",
    "import time\n",
    "\n",
    "# Tạo khóa mã hóa 128-bit (16 byte)\n",
    "key = get_random_bytes(16)\n",
    "\n",
    "# Khởi tạo đối tượng AES ở chế độ CBC\n",
    "cipher = AES.new(key, AES.MODE_CBC)\n",
    "\n",
    "# Văn bản gốc cần mã hóa (dạng bytes)\n",
    "plaintext = b\"Hello, this is a test message for AES encryption!\"\n",
    "\n",
    "# Đo thời gian mã hóa AES\n",
    "start_time = time.time()\n",
    "ciphertext = cipher.encrypt(pad(plaintext, AES.block_size))\n",
    "end_time = time.time()\n",
    "aes_encryption_time = end_time - start_time\n",
    "\n",
    "# In kết quả mã hóa\n",
    "print(\"Văn bản mã hóa (AES):\", ciphertext)\n",
    "print(\"Thời gian mã hóa AES:\", aes_encryption_time, \"giây\")\n",
    "\n",
    "# Giải mã và đo thời gian giải mã AES\n",
    "start_time = time.time()\n",
    "decipher = AES.new(key, AES.MODE_CBC, cipher.iv)  # Sử dụng lại IV\n",
    "decrypted_text = unpad(decipher.decrypt(ciphertext), AES.block_size)\n",
    "end_time = time.time()\n",
    "aes_decryption_time = end_time - start_time\n",
    "\n",
    "# In kết quả giải mã\n",
    "print(\"Văn bản giải mã (AES):\", decrypted_text.decode())\n",
    "print(\"Thời gian giải mã AES:\", aes_decryption_time, \"giây\")\n"
   ]
  },
  {
   "cell_type": "code",
   "execution_count": 5,
   "id": "619ee476",
   "metadata": {},
   "outputs": [
    {
     "name": "stdout",
     "output_type": "stream",
     "text": [
      "Khóa AES sau khi mã hóa bằng RSA: b';\\x1f\\xb7\\xc8K\\xe7\\x0c<\\xba_z\\x02Sn\\xf6\\x15\\xc4\\xa5\\xa0\\x0c\\n\\x81\\x86i\\xf3\\x9f>\\x137\\x06p0\\x8b\\xec\\x0c\\x84\\xf1\\xd5\\xa9\\x11\\xf8\\xd4\\xa4\\xbe\\xa2\\xd9+\\x9cp\\xaf\\xac3\\xd64\\x98\\x03I\\x14\\x7f~:/\\x0c\\xb6V|\\x18\\x03P\\xd5\\x0e\\x83F8\\x99B\\xe0G\\x12<\\xaf\\xef\\x7f^\\xe1\\xec;J\\x19\\x08\\xfbA\\x11\\x92\\x1deo\\xce\\xc0\\x101\\n\\xe1^\"\\x10\"\\xa3Z\\t\\xd0<\\x00\\xdcZ\\xe78\\xa4\"!J\\xcb\\x1b\\xf7\\xbb\\x0c\\xcc\\x98k\\rS\\xad!g<4\\xee\\xe53K\\xee\\xb3\\xeb<\\xbap\\xcd\\xf0\\xc3\\xf2D4W\\xfaQH|\\xc6\\x1e#\\xfe\\xa5~q(\\x86I\\x12\\x0b\\xd4:e\\xfdP}*\\x13\\xc3\\xa6EM\\x15$\\x11\\x8b\\xba\\xd8\\x9d\"\\x9d\\xa0~\\xbd\\xebj\\xbe;j-\\x85\\xfe\\xc2\\xc0\\x9b\\xef\\xc6\\x81X\\x04l$I\\xa4CuV\\xc7\\xff\\xec\\x19\\x92u%\\xd8&\\xa9i\\xd7\\xac\\xcc\\xcd\\x10\\xe8\\r\\x17\\xd8\\xf2,&\\xedI\\xcf%e7\\xcbU\\x0c\\x14\\xd2\\x01\\x10\\x9b\\x0e(\\x9d'\n",
      "Thời gian mã hóa RSA: 0.0 giây\n",
      "Khóa AES sau khi giải mã: b'\\xf6\\xb95\\xda\\x86\\xe2\\xdf|\\xcf\\xc0\\xe9\\xaf$\\xb0,\\xd2'\n",
      "Thời gian giải mã RSA: 0.010101795196533203 giây\n"
     ]
    }
   ],
   "source": [
    "from Crypto.PublicKey import RSA\n",
    "from Crypto.Cipher import PKCS1_OAEP\n",
    "from Crypto.Random import get_random_bytes\n",
    "import time\n",
    "\n",
    "# Tạo cặp khóa RSA 2048-bit\n",
    "key = RSA.generate(2048)\n",
    "private_key = key.export_key()\n",
    "public_key = key.publickey().export_key()\n",
    "\n",
    "# Sinh khóa AES ngẫu nhiên (16 byte)\n",
    "aes_key = get_random_bytes(16)\n",
    "\n",
    "# Mã hóa khóa AES bằng khóa công khai RSA và đo thời gian\n",
    "cipher_rsa = PKCS1_OAEP.new(RSA.import_key(public_key))\n",
    "start_time = time.time()\n",
    "encrypted_aes_key = cipher_rsa.encrypt(aes_key)\n",
    "end_time = time.time()\n",
    "rsa_encryption_time = end_time - start_time\n",
    "\n",
    "print(\"Khóa AES sau khi mã hóa bằng RSA:\", encrypted_aes_key)\n",
    "print(\"Thời gian mã hóa RSA:\", rsa_encryption_time, \"giây\")\n",
    "\n",
    "# Giải mã khóa AES bằng khóa bí mật RSA và đo thời gian\n",
    "decipher_rsa = PKCS1_OAEP.new(RSA.import_key(private_key))\n",
    "start_time = time.time()\n",
    "decrypted_aes_key = decipher_rsa.decrypt(encrypted_aes_key)\n",
    "end_time = time.time()\n",
    "rsa_decryption_time = end_time - start_time\n",
    "\n",
    "print(\"Khóa AES sau khi giải mã:\", decrypted_aes_key)\n",
    "print(\"Thời gian giải mã RSA:\", rsa_decryption_time, \"giây\")\n"
   ]
  },
  {
   "cell_type": "code",
   "execution_count": 6,
   "metadata": {},
   "outputs": [
    {
     "name": "stdout",
     "output_type": "stream",
     "text": [
      "Khóa AES sau khi giải mã: b'\\xf6\\xb95\\xda\\x86\\xe2\\xdf|\\xcf\\xc0\\xe9\\xaf$\\xb0,\\xd2'\n",
      "Thời gian giải mã RSA: 0.010101795196533203 giây\n"
     ]
    }
   ],
   "source": [
    "from Crypto.PublicKey import RSA\n",
    "from Crypto.Cipher import PKCS1_OAEP\n",
    "# Tạo cặp khóa RSA\n",
    "key = RSA.generate(2048)\n",
    "private_key = key.export_key()\n",
    "public_key = key.publickey().export_key()\n",
    "# Mã hóa khóa AES bằng khóa công khai RSA và đo thời gian\n",
    "aes_key = get_random_bytes(16)\n",
    "cipher_rsa = PKCS1_OAEP.new(RSA.import_key(public_key))\n",
    "start_time = time.time()\n",
    "print(\"Khóa AES sau khi giải mã:\", decrypted_aes_key)\n",
    "print(\"Thời gian giải mã RSA:\", rsa_decryption_time, \"giây\")\n"
   ]
  },
  {
   "cell_type": "markdown",
   "id": "9cf87d36",
   "metadata": {},
   "source": [
    "1. Tại sao mã hóa AES có tốc độ nhanh hơn đáng kể so với RSA?\n",
    "Mã hóa AES có tốc độ nhanh hơn RSA vì AES là thuật toán mã hóa đối xứng, sử dụng cùng một khóa để mã hóa và giải mã, với quy trình tính toán đơn giản và đã được tối ưu tốt trên cả phần mềm lẫn phần cứng. Trong khi đó, RSA là mã hóa bất đối xứng, dựa trên các phép toán phức tạp như lũy thừa modulo với số nguyên lớn, khiến quá trình xử lý chậm hơn rất nhiều.\n",
    "\n",
    "2. Trong thực tế, tại sao người ta thường kết hợp cả AES và RSA trong một hệ thống bảo mật?\n",
    "Trong thực tế, người ta thường kết hợp AES và RSA để tận dụng ưu điểm của cả hai thuật toán: AES được dùng để mã hóa dữ liệu vì tốc độ nhanh và hiệu quả, còn RSA được dùng để mã hóa khóa AES nhằm đảm bảo an toàn khi chia sẻ khóa giữa các bên. Cách kết hợp này được gọi là mã hóa lai (hybrid encryption), giúp hệ thống vừa nhanh vừa bảo mật.\n",
    "\n",
    "3. Dựa trên kết quả đo thời gian, loại mã hóa nào phù hợp hơn cho việc mã hóa dữ liệu dung lượng lớn?\n",
    "Dựa trên kết quả đo thời gian, AES là loại mã hóa phù hợp hơn cho việc mã hóa dữ liệu dung lượng lớn vì có tốc độ xử lý nhanh, khả năng mã hóa dữ liệu theo khối hiệu quả và tiêu tốn ít tài nguyên hơn. Ngược lại, RSA chỉ phù hợp để mã hóa các dữ liệu nhỏ như khóa, vì tốc độ chậm và giới hạn độ dài dữ liệu được xử lý.\n",
    "\n"
   ]
  },
  {
   "cell_type": "markdown",
   "id": "f696e093",
   "metadata": {},
   "source": [
    "so sánh thời gia thực thi aes và rsa \n",
    "Mã hóa AES là gần như tức thời: Với thời gian 0.0 giây, điều này có nghĩa là quá trình mã hóa diễn ra cực kỳ nhanh, đến mức không thể đo lường được bằng đơn vị nhỏ nhất mà hệ thống ghi nhận trong lần chạy này.\n",
    "Giải mã AES cũng rất nhanh: Mặc dù mất một khoảng thời gian nhỏ hơn 0.003 giây (khoảng 0.002016 giây), quá trình giải mã vẫn diễn ra cực kỳ nhanh chóng.\n",
    "Nhận xét\n",
    "So sánh trực tiếp, quá trình mã hóa AES diễn ra nhanh hơn hoặc ngang bằng với quá trình giải mã AES trong trường hợp cụ thể này, với dữ liệu và môi trường chạy mà bạn đã thử nghiệm. Việc mã hóa mất \"0.0 giây\" thường ngụ ý rằng thời gian thực tế là một con số rất nhỏ, dưới ngưỡng đo lường của phép đo hiện tại, nhưng vẫn là một giá trị dương.\n",
    "\n",
    "Điều này củng cố thêm khẳng định về hiệu suất vượt trội của thuật toán mã hóa đối xứng như AES, khiến nó trở thành lựa chọn lý tưởng cho việc bảo mật dữ liệu với khối lượng lớn, nơi mà tốc độ là yếu tố then chốt."
   ]
  },
  {
   "cell_type": "code",
   "execution_count": null,
   "metadata": {},
   "outputs": [],
   "source": []
  },
  {
   "cell_type": "code",
   "execution_count": null,
   "id": "40ff2e52",
   "metadata": {},
   "outputs": [],
   "source": []
  },
  {
   "cell_type": "code",
   "execution_count": 11,
   "id": "46bc2147",
   "metadata": {},
   "outputs": [
    {
     "name": "stdout",
     "output_type": "stream",
     "text": [
      "Collecting boto3\n",
      "  Using cached boto3-1.38.20-py3-none-any.whl.metadata (6.6 kB)\n",
      "Collecting botocore<1.39.0,>=1.38.20 (from boto3)\n",
      "  Using cached botocore-1.38.20-py3-none-any.whl.metadata (5.7 kB)\n",
      "Collecting jmespath<2.0.0,>=0.7.1 (from boto3)\n",
      "  Using cached jmespath-1.0.1-py3-none-any.whl.metadata (7.6 kB)\n",
      "Collecting s3transfer<0.13.0,>=0.12.0 (from boto3)\n",
      "  Using cached s3transfer-0.12.0-py3-none-any.whl.metadata (1.7 kB)\n",
      "Requirement already satisfied: python-dateutil<3.0.0,>=2.1 in c:\\users\\admin\\appdata\\local\\packages\\pythonsoftwarefoundation.python.3.11_qbz5n2kfra8p0\\localcache\\local-packages\\python311\\site-packages (from botocore<1.39.0,>=1.38.20->boto3) (2.8.2)\n",
      "Requirement already satisfied: urllib3!=2.2.0,<3,>=1.25.4 in c:\\users\\admin\\appdata\\local\\packages\\pythonsoftwarefoundation.python.3.11_qbz5n2kfra8p0\\localcache\\local-packages\\python311\\site-packages (from botocore<1.39.0,>=1.38.20->boto3) (2.2.3)\n",
      "Requirement already satisfied: six>=1.5 in c:\\users\\admin\\appdata\\local\\packages\\pythonsoftwarefoundation.python.3.11_qbz5n2kfra8p0\\localcache\\local-packages\\python311\\site-packages (from python-dateutil<3.0.0,>=2.1->botocore<1.39.0,>=1.38.20->boto3) (1.16.0)\n",
      "Using cached boto3-1.38.20-py3-none-any.whl (139 kB)\n",
      "Downloading botocore-1.38.20-py3-none-any.whl (13.6 MB)\n",
      "   ---------------------------------------- 0.0/13.6 MB ? eta -:--:--\n",
      "   ---------------------------------------- 0.0/13.6 MB ? eta -:--:--\n",
      "   ---------------------------------------- 0.0/13.6 MB ? eta -:--:--\n",
      "   ---------------------------------------- 0.0/13.6 MB ? eta -:--:--\n",
      "   ---------------------------------------- 0.0/13.6 MB ? eta -:--:--\n",
      "    --------------------------------------- 0.3/13.6 MB ? eta -:--:--\n",
      "    --------------------------------------- 0.3/13.6 MB ? eta -:--:--\n",
      "    --------------------------------------- 0.3/13.6 MB ? eta -:--:--\n",
      "    --------------------------------------- 0.3/13.6 MB ? eta -:--:--\n",
      "   - -------------------------------------- 0.5/13.6 MB 299.6 kB/s eta 0:00:44\n",
      "   - -------------------------------------- 0.5/13.6 MB 299.6 kB/s eta 0:00:44\n",
      "   - -------------------------------------- 0.5/13.6 MB 299.6 kB/s eta 0:00:44\n",
      "   - -------------------------------------- 0.5/13.6 MB 299.6 kB/s eta 0:00:44\n",
      "   - -------------------------------------- 0.5/13.6 MB 299.6 kB/s eta 0:00:44\n",
      "   -- ------------------------------------- 0.8/13.6 MB 277.3 kB/s eta 0:00:47\n",
      "   -- ------------------------------------- 0.8/13.6 MB 277.3 kB/s eta 0:00:47\n",
      "   -- ------------------------------------- 0.8/13.6 MB 277.3 kB/s eta 0:00:47\n",
      "   -- ------------------------------------- 0.8/13.6 MB 277.3 kB/s eta 0:00:47\n",
      "   -- ------------------------------------- 0.8/13.6 MB 277.3 kB/s eta 0:00:47\n",
      "   -- ------------------------------------- 0.8/13.6 MB 277.3 kB/s eta 0:00:47\n",
      "   -- ------------------------------------- 0.8/13.6 MB 277.3 kB/s eta 0:00:47\n",
      "   --- ------------------------------------ 1.0/13.6 MB 240.8 kB/s eta 0:00:52\n",
      "   --- ------------------------------------ 1.0/13.6 MB 240.8 kB/s eta 0:00:52\n",
      "   --- ------------------------------------ 1.0/13.6 MB 240.8 kB/s eta 0:00:52\n",
      "   --- ------------------------------------ 1.0/13.6 MB 240.8 kB/s eta 0:00:52\n",
      "   --- ------------------------------------ 1.0/13.6 MB 240.8 kB/s eta 0:00:52\n",
      "   --- ------------------------------------ 1.0/13.6 MB 240.8 kB/s eta 0:00:52\n",
      "   --- ------------------------------------ 1.0/13.6 MB 240.8 kB/s eta 0:00:52\n",
      "   --- ------------------------------------ 1.0/13.6 MB 240.8 kB/s eta 0:00:52\n",
      "   --- ------------------------------------ 1.0/13.6 MB 240.8 kB/s eta 0:00:52\n",
      "   --- ------------------------------------ 1.0/13.6 MB 240.8 kB/s eta 0:00:52\n",
      "   --- ------------------------------------ 1.3/13.6 MB 188.5 kB/s eta 0:01:05\n",
      "   --- ------------------------------------ 1.3/13.6 MB 188.5 kB/s eta 0:01:05\n",
      "   --- ------------------------------------ 1.3/13.6 MB 188.5 kB/s eta 0:01:05\n",
      "   --- ------------------------------------ 1.3/13.6 MB 188.5 kB/s eta 0:01:05\n",
      "   --- ------------------------------------ 1.3/13.6 MB 188.5 kB/s eta 0:01:05\n",
      "   --- ------------------------------------ 1.3/13.6 MB 188.5 kB/s eta 0:01:05\n",
      "   --- ------------------------------------ 1.3/13.6 MB 188.5 kB/s eta 0:01:05\n",
      "   ---- ----------------------------------- 1.6/13.6 MB 188.5 kB/s eta 0:01:04\n",
      "   ---- ----------------------------------- 1.6/13.6 MB 188.5 kB/s eta 0:01:04\n",
      "   ---- ----------------------------------- 1.6/13.6 MB 188.5 kB/s eta 0:01:04\n",
      "   ----- ---------------------------------- 1.8/13.6 MB 205.4 kB/s eta 0:00:58\n",
      "   ----- ---------------------------------- 1.8/13.6 MB 205.4 kB/s eta 0:00:58\n",
      "   ------ --------------------------------- 2.1/13.6 MB 227.6 kB/s eta 0:00:51\n",
      "   ------ --------------------------------- 2.1/13.6 MB 227.6 kB/s eta 0:00:51\n",
      "   ------ --------------------------------- 2.1/13.6 MB 227.6 kB/s eta 0:00:51\n",
      "   ------ --------------------------------- 2.4/13.6 MB 245.8 kB/s eta 0:00:46\n",
      "   ------- -------------------------------- 2.6/13.6 MB 264.0 kB/s eta 0:00:42\n",
      "   ------- -------------------------------- 2.6/13.6 MB 264.0 kB/s eta 0:00:42\n",
      "   -------- ------------------------------- 2.9/13.6 MB 280.1 kB/s eta 0:00:39\n",
      "   -------- ------------------------------- 2.9/13.6 MB 280.1 kB/s eta 0:00:39\n",
      "   -------- ------------------------------- 2.9/13.6 MB 280.1 kB/s eta 0:00:39\n",
      "   --------- ------------------------------ 3.1/13.6 MB 293.4 kB/s eta 0:00:36\n",
      "   --------- ------------------------------ 3.1/13.6 MB 293.4 kB/s eta 0:00:36\n",
      "   ---------- ----------------------------- 3.4/13.6 MB 306.9 kB/s eta 0:00:34\n",
      "   ---------- ----------------------------- 3.4/13.6 MB 306.9 kB/s eta 0:00:34\n",
      "   ---------- ----------------------------- 3.7/13.6 MB 319.3 kB/s eta 0:00:31\n",
      "   ---------- ----------------------------- 3.7/13.6 MB 319.3 kB/s eta 0:00:31\n",
      "   ----------- ---------------------------- 3.9/13.6 MB 331.7 kB/s eta 0:00:30\n",
      "   ------------ --------------------------- 4.2/13.6 MB 342.9 kB/s eta 0:00:28\n",
      "   ------------ --------------------------- 4.2/13.6 MB 342.9 kB/s eta 0:00:28\n",
      "   ------------- -------------------------- 4.5/13.6 MB 353.2 kB/s eta 0:00:26\n",
      "   ------------- -------------------------- 4.5/13.6 MB 353.2 kB/s eta 0:00:26\n",
      "   ------------- -------------------------- 4.7/13.6 MB 362.4 kB/s eta 0:00:25\n",
      "   ------------- -------------------------- 4.7/13.6 MB 362.4 kB/s eta 0:00:25\n",
      "   -------------- ------------------------- 5.0/13.6 MB 370.5 kB/s eta 0:00:24\n",
      "   -------------- ------------------------- 5.0/13.6 MB 370.5 kB/s eta 0:00:24\n",
      "   --------------- ------------------------ 5.2/13.6 MB 378.1 kB/s eta 0:00:22\n",
      "   --------------- ------------------------ 5.2/13.6 MB 378.1 kB/s eta 0:00:22\n",
      "   --------------- ------------------------ 5.2/13.6 MB 378.1 kB/s eta 0:00:22\n",
      "   ---------------- ----------------------- 5.5/13.6 MB 384.8 kB/s eta 0:00:21\n",
      "   ---------------- ----------------------- 5.5/13.6 MB 384.8 kB/s eta 0:00:21\n",
      "   ----------------- ---------------------- 5.8/13.6 MB 392.3 kB/s eta 0:00:20\n",
      "   ----------------- ---------------------- 5.8/13.6 MB 392.3 kB/s eta 0:00:20\n",
      "   ----------------- ---------------------- 6.0/13.6 MB 393.9 kB/s eta 0:00:20\n",
      "   ----------------- ---------------------- 6.0/13.6 MB 393.9 kB/s eta 0:00:20\n",
      "   ------------------ --------------------- 6.3/13.6 MB 400.3 kB/s eta 0:00:19\n",
      "   ------------------ --------------------- 6.3/13.6 MB 400.3 kB/s eta 0:00:19\n",
      "   ------------------- -------------------- 6.6/13.6 MB 406.3 kB/s eta 0:00:18\n",
      "   ------------------- -------------------- 6.6/13.6 MB 406.3 kB/s eta 0:00:18\n",
      "   -------------------- ------------------- 6.8/13.6 MB 412.0 kB/s eta 0:00:17\n",
      "   -------------------- ------------------- 6.8/13.6 MB 412.0 kB/s eta 0:00:17\n",
      "   -------------------- ------------------- 7.1/13.6 MB 417.4 kB/s eta 0:00:16\n",
      "   -------------------- ------------------- 7.1/13.6 MB 417.4 kB/s eta 0:00:16\n",
      "   --------------------- ------------------ 7.3/13.6 MB 422.9 kB/s eta 0:00:15\n",
      "   --------------------- ------------------ 7.3/13.6 MB 422.9 kB/s eta 0:00:15\n",
      "   ---------------------- ----------------- 7.6/13.6 MB 427.8 kB/s eta 0:00:14\n",
      "   ---------------------- ----------------- 7.6/13.6 MB 427.8 kB/s eta 0:00:14\n",
      "   ---------------------- ----------------- 7.6/13.6 MB 427.8 kB/s eta 0:00:14\n",
      "   ----------------------- ---------------- 7.9/13.6 MB 430.2 kB/s eta 0:00:14\n",
      "   ----------------------- ---------------- 7.9/13.6 MB 430.2 kB/s eta 0:00:14\n",
      "   ----------------------- ---------------- 8.1/13.6 MB 432.8 kB/s eta 0:00:13\n",
      "   ----------------------- ---------------- 8.1/13.6 MB 432.8 kB/s eta 0:00:13\n",
      "   ------------------------ --------------- 8.4/13.6 MB 436.3 kB/s eta 0:00:12\n",
      "   ------------------------ --------------- 8.4/13.6 MB 436.3 kB/s eta 0:00:12\n",
      "   ------------------------- -------------- 8.7/13.6 MB 440.4 kB/s eta 0:00:12\n",
      "   ------------------------- -------------- 8.7/13.6 MB 440.4 kB/s eta 0:00:12\n",
      "   -------------------------- ------------- 8.9/13.6 MB 444.3 kB/s eta 0:00:11\n",
      "   -------------------------- ------------- 8.9/13.6 MB 444.3 kB/s eta 0:00:11\n",
      "   --------------------------- ------------ 9.2/13.6 MB 447.7 kB/s eta 0:00:10\n",
      "   --------------------------- ------------ 9.2/13.6 MB 447.7 kB/s eta 0:00:10\n",
      "   --------------------------- ------------ 9.4/13.6 MB 451.7 kB/s eta 0:00:10\n",
      "   --------------------------- ------------ 9.4/13.6 MB 451.7 kB/s eta 0:00:10\n",
      "   --------------------------- ------------ 9.4/13.6 MB 451.7 kB/s eta 0:00:10\n",
      "   --------------------------- ------------ 9.4/13.6 MB 451.7 kB/s eta 0:00:10\n",
      "   --------------------------- ------------ 9.4/13.6 MB 451.7 kB/s eta 0:00:10\n",
      "   --------------------------- ------------ 9.4/13.6 MB 451.7 kB/s eta 0:00:10\n",
      "   --------------------------- ------------ 9.4/13.6 MB 451.7 kB/s eta 0:00:10\n",
      "   --------------------------- ------------ 9.4/13.6 MB 451.7 kB/s eta 0:00:10\n",
      "   --------------------------- ------------ 9.4/13.6 MB 451.7 kB/s eta 0:00:10\n",
      "   --------------------------- ------------ 9.4/13.6 MB 451.7 kB/s eta 0:00:10\n",
      "   --------------------------- ------------ 9.4/13.6 MB 451.7 kB/s eta 0:00:10\n",
      "   --------------------------- ------------ 9.4/13.6 MB 451.7 kB/s eta 0:00:10\n",
      "   --------------------------- ------------ 9.4/13.6 MB 451.7 kB/s eta 0:00:10\n",
      "   --------------------------- ------------ 9.4/13.6 MB 451.7 kB/s eta 0:00:10\n",
      "   ---------------------------- ----------- 9.7/13.6 MB 404.8 kB/s eta 0:00:10\n",
      "   ---------------------------- ----------- 9.7/13.6 MB 404.8 kB/s eta 0:00:10\n",
      "   ---------------------------- ----------- 9.7/13.6 MB 404.8 kB/s eta 0:00:10\n",
      "   ---------------------------- ----------- 9.7/13.6 MB 404.8 kB/s eta 0:00:10\n",
      "   ---------------------------- ----------- 9.7/13.6 MB 404.8 kB/s eta 0:00:10\n",
      "   ----------------------------- ---------- 10.0/13.6 MB 401.0 kB/s eta 0:00:09\n",
      "   ----------------------------- ---------- 10.0/13.6 MB 401.0 kB/s eta 0:00:09\n",
      "   ----------------------------- ---------- 10.0/13.6 MB 401.0 kB/s eta 0:00:09\n",
      "   ------------------------------ --------- 10.2/13.6 MB 401.2 kB/s eta 0:00:09\n",
      "   ------------------------------ --------- 10.2/13.6 MB 401.2 kB/s eta 0:00:09\n",
      "   ------------------------------ --------- 10.2/13.6 MB 401.2 kB/s eta 0:00:09\n",
      "   ------------------------------ --------- 10.2/13.6 MB 401.2 kB/s eta 0:00:09\n",
      "   ------------------------------ --------- 10.2/13.6 MB 401.2 kB/s eta 0:00:09\n",
      "   ------------------------------ --------- 10.5/13.6 MB 392.5 kB/s eta 0:00:08\n",
      "   ------------------------------ --------- 10.5/13.6 MB 392.5 kB/s eta 0:00:08\n",
      "   ------------------------------ --------- 10.5/13.6 MB 392.5 kB/s eta 0:00:08\n",
      "   ------------------------------ --------- 10.5/13.6 MB 392.5 kB/s eta 0:00:08\n",
      "   ------------------------------- -------- 10.7/13.6 MB 391.1 kB/s eta 0:00:08\n",
      "   ------------------------------- -------- 10.7/13.6 MB 391.1 kB/s eta 0:00:08\n",
      "   -------------------------------- ------- 11.0/13.6 MB 394.2 kB/s eta 0:00:07\n",
      "   -------------------------------- ------- 11.0/13.6 MB 394.2 kB/s eta 0:00:07\n",
      "   --------------------------------- ------ 11.3/13.6 MB 396.8 kB/s eta 0:00:06\n",
      "   --------------------------------- ------ 11.3/13.6 MB 396.8 kB/s eta 0:00:06\n",
      "   --------------------------------- ------ 11.3/13.6 MB 396.8 kB/s eta 0:00:06\n",
      "   ---------------------------------- ----- 11.5/13.6 MB 398.4 kB/s eta 0:00:06\n",
      "   ---------------------------------- ----- 11.5/13.6 MB 398.4 kB/s eta 0:00:06\n",
      "   ---------------------------------- ----- 11.8/13.6 MB 400.7 kB/s eta 0:00:05\n",
      "   ---------------------------------- ----- 11.8/13.6 MB 400.7 kB/s eta 0:00:05\n",
      "   ----------------------------------- ---- 12.1/13.6 MB 403.7 kB/s eta 0:00:04\n",
      "   ----------------------------------- ---- 12.1/13.6 MB 403.7 kB/s eta 0:00:04\n",
      "   ----------------------------------- ---- 12.1/13.6 MB 403.7 kB/s eta 0:00:04\n",
      "   ------------------------------------ --- 12.3/13.6 MB 404.7 kB/s eta 0:00:04\n",
      "   ------------------------------------ --- 12.3/13.6 MB 404.7 kB/s eta 0:00:04\n",
      "   ------------------------------------- -- 12.6/13.6 MB 409.9 kB/s eta 0:00:03\n",
      "   ------------------------------------- -- 12.6/13.6 MB 409.9 kB/s eta 0:00:03\n",
      "   ------------------------------------- -- 12.8/13.6 MB 412.4 kB/s eta 0:00:02\n",
      "   ------------------------------------- -- 12.8/13.6 MB 412.4 kB/s eta 0:00:02\n",
      "   ------------------------------------- -- 12.8/13.6 MB 412.4 kB/s eta 0:00:02\n",
      "   -------------------------------------- - 13.1/13.6 MB 418.3 kB/s eta 0:00:02\n",
      "   -------------------------------------- - 13.1/13.6 MB 418.3 kB/s eta 0:00:02\n",
      "   -------------------------------------- - 13.1/13.6 MB 418.3 kB/s eta 0:00:02\n",
      "   ---------------------------------------  13.4/13.6 MB 419.4 kB/s eta 0:00:01\n",
      "   ---------------------------------------  13.4/13.6 MB 419.4 kB/s eta 0:00:01\n",
      "   ---------------------------------------- 13.6/13.6 MB 430.5 kB/s eta 0:00:00\n",
      "Using cached jmespath-1.0.1-py3-none-any.whl (20 kB)\n",
      "Using cached s3transfer-0.12.0-py3-none-any.whl (84 kB)\n",
      "Installing collected packages: jmespath, botocore, s3transfer, boto3\n",
      "Successfully installed boto3-1.38.20 botocore-1.38.20 jmespath-1.0.1 s3transfer-0.12.0\n",
      "Note: you may need to restart the kernel to use updated packages.\n"
     ]
    },
    {
     "name": "stderr",
     "output_type": "stream",
     "text": [
      "\n",
      "[notice] A new release of pip is available: 25.0.1 -> 25.1.1\n",
      "[notice] To update, run: C:\\Users\\admin\\AppData\\Local\\Microsoft\\WindowsApps\\PythonSoftwareFoundation.Python.3.11_qbz5n2kfra8p0\\python.exe -m pip install --upgrade pip\n"
     ]
    }
   ],
   "source": [
    " pip install boto3"
   ]
  },
  {
   "cell_type": "code",
   "execution_count": null,
   "id": "678fb6ba",
   "metadata": {},
   "outputs": [
    {
     "ename": "TypeError",
     "evalue": "download_file() missing 1 required positional argument: 'Filename'",
     "output_type": "error",
     "traceback": [
      "\u001b[1;31m---------------------------------------------------------------------------\u001b[0m",
      "\u001b[1;31mTypeError\u001b[0m                                 Traceback (most recent call last)",
      "Cell \u001b[1;32mIn[22], line 15\u001b[0m\n\u001b[0;32m      5\u001b[0m s3 \u001b[38;5;241m=\u001b[39m boto3\u001b[38;5;241m.\u001b[39mclient(\n\u001b[0;32m      6\u001b[0m     \u001b[38;5;124m'\u001b[39m\u001b[38;5;124ms3\u001b[39m\u001b[38;5;124m'\u001b[39m,\n\u001b[0;32m      7\u001b[0m     endpoint_url\u001b[38;5;241m=\u001b[39m\u001b[38;5;124m'\u001b[39m\u001b[38;5;124mhttp://127.0.0.1:53784/browser/iot-lab-demo1/sensor_data.csv\u001b[39m\u001b[38;5;124m'\u001b[39m,\n\u001b[1;32m   (...)\u001b[0m\n\u001b[0;32m     11\u001b[0m     region_name\u001b[38;5;241m=\u001b[39m\u001b[38;5;124m'\u001b[39m\u001b[38;5;124mus-east-1\u001b[39m\u001b[38;5;124m'\u001b[39m\n\u001b[0;32m     12\u001b[0m )\n\u001b[0;32m     14\u001b[0m \u001b[38;5;66;03m# Tải file từ bucket S3\u001b[39;00m\n\u001b[1;32m---> 15\u001b[0m \u001b[43ms3\u001b[49m\u001b[38;5;241;43m.\u001b[39;49m\u001b[43mdownload_file\u001b[49m\u001b[43m(\u001b[49m\u001b[38;5;124;43m'\u001b[39;49m\u001b[38;5;124;43miot-lab-demo1\u001b[39;49m\u001b[38;5;124;43m'\u001b[39;49m\u001b[43m,\u001b[49m\u001b[43m \u001b[49m\u001b[38;5;124;43m'\u001b[39;49m\u001b[38;5;124;43msensor_data.csv\u001b[39;49m\u001b[38;5;124;43m'\u001b[39;49m\u001b[43m,\u001b[49m\u001b[43m)\u001b[49m\n\u001b[0;32m     16\u001b[0m \u001b[38;5;28mprint\u001b[39m(\u001b[38;5;124m\"\u001b[39m\u001b[38;5;124mDownload thành công!\u001b[39m\u001b[38;5;124m\"\u001b[39m)\n",
      "File \u001b[1;32m~\\AppData\\Local\\Packages\\PythonSoftwareFoundation.Python.3.11_qbz5n2kfra8p0\\LocalCache\\local-packages\\Python311\\site-packages\\botocore\\context.py:123\u001b[0m, in \u001b[0;36mwith_current_context.<locals>.decorator.<locals>.wrapper\u001b[1;34m(*args, **kwargs)\u001b[0m\n\u001b[0;32m    121\u001b[0m \u001b[38;5;28;01mif\u001b[39;00m hook:\n\u001b[0;32m    122\u001b[0m     hook()\n\u001b[1;32m--> 123\u001b[0m \u001b[38;5;28;01mreturn\u001b[39;00m \u001b[43mfunc\u001b[49m\u001b[43m(\u001b[49m\u001b[38;5;241;43m*\u001b[39;49m\u001b[43margs\u001b[49m\u001b[43m,\u001b[49m\u001b[43m \u001b[49m\u001b[38;5;241;43m*\u001b[39;49m\u001b[38;5;241;43m*\u001b[39;49m\u001b[43mkwargs\u001b[49m\u001b[43m)\u001b[49m\n",
      "\u001b[1;31mTypeError\u001b[0m: download_file() missing 1 required positional argument: 'Filename'"
     ]
    }
   ],
   "source": [
    "import boto3\n",
    "from botocore.client import Config\n",
    "\n",
    "# Tạo client để kết nối với S3 (ví dụ: MinIO đang chạy trên localhost)\n",
    "s3 = boto3.client(\n",
    "    's3',\n",
    "    endpoint_url='http://127.0.0.1:53784',\n",
    "    aws_access_key_id='linh',\n",
    "    aws_secret_access_key='abc12345',\n",
    "    config=Config(signature_version='s3v4'),\n",
    "    region_name='us-east-1'\n",
    ")\n",
    "\n",
    "# Tải file từ bucket S3\n",
    "s3.download_file('iot-lab-demo1', 'sensor_data.csv',)\n",
    "print(\"Download thành công!\")\n"
   ]
  },
  {
   "cell_type": "code",
   "execution_count": 12,
   "id": "948afb0d",
   "metadata": {},
   "outputs": [
    {
     "ename": "ClientError",
     "evalue": "An error occurred (403) when calling the HeadObject operation: Forbidden",
     "output_type": "error",
     "traceback": [
      "\u001b[1;31m---------------------------------------------------------------------------\u001b[0m",
      "\u001b[1;31mClientError\u001b[0m                               Traceback (most recent call last)",
      "Cell \u001b[1;32mIn[12], line 15\u001b[0m\n\u001b[0;32m      5\u001b[0m s3 \u001b[38;5;241m=\u001b[39m boto3\u001b[38;5;241m.\u001b[39mclient(\n\u001b[0;32m      6\u001b[0m     \u001b[38;5;124m'\u001b[39m\u001b[38;5;124ms3\u001b[39m\u001b[38;5;124m'\u001b[39m,\n\u001b[0;32m      7\u001b[0m     endpoint_url\u001b[38;5;241m=\u001b[39m\u001b[38;5;124m'\u001b[39m\u001b[38;5;124mhttp://localhost:9000\u001b[39m\u001b[38;5;124m'\u001b[39m,\n\u001b[1;32m   (...)\u001b[0m\n\u001b[0;32m     11\u001b[0m     region_name\u001b[38;5;241m=\u001b[39m\u001b[38;5;124m'\u001b[39m\u001b[38;5;124mus-east-1\u001b[39m\u001b[38;5;124m'\u001b[39m\n\u001b[0;32m     12\u001b[0m )\n\u001b[0;32m     14\u001b[0m \u001b[38;5;66;03m# Tải file từ bucket\u001b[39;00m\n\u001b[1;32m---> 15\u001b[0m \u001b[43ms3\u001b[49m\u001b[38;5;241;43m.\u001b[39;49m\u001b[43mdownload_file\u001b[49m\u001b[43m(\u001b[49m\u001b[38;5;124;43m'\u001b[39;49m\u001b[38;5;124;43miot-lab-demo\u001b[39;49m\u001b[38;5;124;43m'\u001b[39;49m\u001b[43m,\u001b[49m\u001b[43m \u001b[49m\u001b[38;5;124;43m'\u001b[39;49m\u001b[38;5;124;43mdata_house.csv\u001b[39;49m\u001b[38;5;124;43m'\u001b[39;49m\u001b[43m,\u001b[49m\u001b[43m \u001b[49m\u001b[38;5;124;43m'\u001b[39;49m\u001b[38;5;124;43mtemp.csv\u001b[39;49m\u001b[38;5;124;43m'\u001b[39;49m\u001b[43m)\u001b[49m\n\u001b[0;32m     17\u001b[0m \u001b[38;5;28mprint\u001b[39m(\u001b[38;5;124m\"\u001b[39m\u001b[38;5;124mDownload thành công!\u001b[39m\u001b[38;5;124m\"\u001b[39m)\n",
      "File \u001b[1;32m~\\AppData\\Local\\Packages\\PythonSoftwareFoundation.Python.3.11_qbz5n2kfra8p0\\LocalCache\\local-packages\\Python311\\site-packages\\botocore\\context.py:123\u001b[0m, in \u001b[0;36mwith_current_context.<locals>.decorator.<locals>.wrapper\u001b[1;34m(*args, **kwargs)\u001b[0m\n\u001b[0;32m    121\u001b[0m \u001b[38;5;28;01mif\u001b[39;00m hook:\n\u001b[0;32m    122\u001b[0m     hook()\n\u001b[1;32m--> 123\u001b[0m \u001b[38;5;28;01mreturn\u001b[39;00m \u001b[43mfunc\u001b[49m\u001b[43m(\u001b[49m\u001b[38;5;241;43m*\u001b[39;49m\u001b[43margs\u001b[49m\u001b[43m,\u001b[49m\u001b[43m \u001b[49m\u001b[38;5;241;43m*\u001b[39;49m\u001b[38;5;241;43m*\u001b[39;49m\u001b[43mkwargs\u001b[49m\u001b[43m)\u001b[49m\n",
      "File \u001b[1;32m~\\AppData\\Local\\Packages\\PythonSoftwareFoundation.Python.3.11_qbz5n2kfra8p0\\LocalCache\\local-packages\\Python311\\site-packages\\boto3\\s3\\inject.py:223\u001b[0m, in \u001b[0;36mdownload_file\u001b[1;34m(self, Bucket, Key, Filename, ExtraArgs, Callback, Config)\u001b[0m\n\u001b[0;32m    188\u001b[0m \u001b[38;5;250m\u001b[39m\u001b[38;5;124;03m\"\"\"Download an S3 object to a file.\u001b[39;00m\n\u001b[0;32m    189\u001b[0m \n\u001b[0;32m    190\u001b[0m \u001b[38;5;124;03mUsage::\u001b[39;00m\n\u001b[1;32m   (...)\u001b[0m\n\u001b[0;32m    220\u001b[0m \u001b[38;5;124;03m    transfer.\u001b[39;00m\n\u001b[0;32m    221\u001b[0m \u001b[38;5;124;03m\"\"\"\u001b[39;00m\n\u001b[0;32m    222\u001b[0m \u001b[38;5;28;01mwith\u001b[39;00m S3Transfer(\u001b[38;5;28mself\u001b[39m, Config) \u001b[38;5;28;01mas\u001b[39;00m transfer:\n\u001b[1;32m--> 223\u001b[0m     \u001b[38;5;28;01mreturn\u001b[39;00m \u001b[43mtransfer\u001b[49m\u001b[38;5;241;43m.\u001b[39;49m\u001b[43mdownload_file\u001b[49m\u001b[43m(\u001b[49m\n\u001b[0;32m    224\u001b[0m \u001b[43m        \u001b[49m\u001b[43mbucket\u001b[49m\u001b[38;5;241;43m=\u001b[39;49m\u001b[43mBucket\u001b[49m\u001b[43m,\u001b[49m\n\u001b[0;32m    225\u001b[0m \u001b[43m        \u001b[49m\u001b[43mkey\u001b[49m\u001b[38;5;241;43m=\u001b[39;49m\u001b[43mKey\u001b[49m\u001b[43m,\u001b[49m\n\u001b[0;32m    226\u001b[0m \u001b[43m        \u001b[49m\u001b[43mfilename\u001b[49m\u001b[38;5;241;43m=\u001b[39;49m\u001b[43mFilename\u001b[49m\u001b[43m,\u001b[49m\n\u001b[0;32m    227\u001b[0m \u001b[43m        \u001b[49m\u001b[43mextra_args\u001b[49m\u001b[38;5;241;43m=\u001b[39;49m\u001b[43mExtraArgs\u001b[49m\u001b[43m,\u001b[49m\n\u001b[0;32m    228\u001b[0m \u001b[43m        \u001b[49m\u001b[43mcallback\u001b[49m\u001b[38;5;241;43m=\u001b[39;49m\u001b[43mCallback\u001b[49m\u001b[43m,\u001b[49m\n\u001b[0;32m    229\u001b[0m \u001b[43m    \u001b[49m\u001b[43m)\u001b[49m\n",
      "File \u001b[1;32m~\\AppData\\Local\\Packages\\PythonSoftwareFoundation.Python.3.11_qbz5n2kfra8p0\\LocalCache\\local-packages\\Python311\\site-packages\\boto3\\s3\\transfer.py:406\u001b[0m, in \u001b[0;36mS3Transfer.download_file\u001b[1;34m(self, bucket, key, filename, extra_args, callback)\u001b[0m\n\u001b[0;32m    402\u001b[0m future \u001b[38;5;241m=\u001b[39m \u001b[38;5;28mself\u001b[39m\u001b[38;5;241m.\u001b[39m_manager\u001b[38;5;241m.\u001b[39mdownload(\n\u001b[0;32m    403\u001b[0m     bucket, key, filename, extra_args, subscribers\n\u001b[0;32m    404\u001b[0m )\n\u001b[0;32m    405\u001b[0m \u001b[38;5;28;01mtry\u001b[39;00m:\n\u001b[1;32m--> 406\u001b[0m     \u001b[43mfuture\u001b[49m\u001b[38;5;241;43m.\u001b[39;49m\u001b[43mresult\u001b[49m\u001b[43m(\u001b[49m\u001b[43m)\u001b[49m\n\u001b[0;32m    407\u001b[0m \u001b[38;5;66;03m# This is for backwards compatibility where when retries are\u001b[39;00m\n\u001b[0;32m    408\u001b[0m \u001b[38;5;66;03m# exceeded we need to throw the same error from boto3 instead of\u001b[39;00m\n\u001b[0;32m    409\u001b[0m \u001b[38;5;66;03m# s3transfer's built in RetriesExceededError as current users are\u001b[39;00m\n\u001b[0;32m    410\u001b[0m \u001b[38;5;66;03m# catching the boto3 one instead of the s3transfer exception to do\u001b[39;00m\n\u001b[0;32m    411\u001b[0m \u001b[38;5;66;03m# their own retries.\u001b[39;00m\n\u001b[0;32m    412\u001b[0m \u001b[38;5;28;01mexcept\u001b[39;00m S3TransferRetriesExceededError \u001b[38;5;28;01mas\u001b[39;00m e:\n",
      "File \u001b[1;32m~\\AppData\\Local\\Packages\\PythonSoftwareFoundation.Python.3.11_qbz5n2kfra8p0\\LocalCache\\local-packages\\Python311\\site-packages\\s3transfer\\futures.py:111\u001b[0m, in \u001b[0;36mTransferFuture.result\u001b[1;34m(self)\u001b[0m\n\u001b[0;32m    106\u001b[0m \u001b[38;5;28;01mdef\u001b[39;00m \u001b[38;5;21mresult\u001b[39m(\u001b[38;5;28mself\u001b[39m):\n\u001b[0;32m    107\u001b[0m     \u001b[38;5;28;01mtry\u001b[39;00m:\n\u001b[0;32m    108\u001b[0m         \u001b[38;5;66;03m# Usually the result() method blocks until the transfer is done,\u001b[39;00m\n\u001b[0;32m    109\u001b[0m         \u001b[38;5;66;03m# however if a KeyboardInterrupt is raised we want want to exit\u001b[39;00m\n\u001b[0;32m    110\u001b[0m         \u001b[38;5;66;03m# out of this and propagate the exception.\u001b[39;00m\n\u001b[1;32m--> 111\u001b[0m         \u001b[38;5;28;01mreturn\u001b[39;00m \u001b[38;5;28;43mself\u001b[39;49m\u001b[38;5;241;43m.\u001b[39;49m\u001b[43m_coordinator\u001b[49m\u001b[38;5;241;43m.\u001b[39;49m\u001b[43mresult\u001b[49m\u001b[43m(\u001b[49m\u001b[43m)\u001b[49m\n\u001b[0;32m    112\u001b[0m     \u001b[38;5;28;01mexcept\u001b[39;00m \u001b[38;5;167;01mKeyboardInterrupt\u001b[39;00m \u001b[38;5;28;01mas\u001b[39;00m e:\n\u001b[0;32m    113\u001b[0m         \u001b[38;5;28mself\u001b[39m\u001b[38;5;241m.\u001b[39mcancel()\n",
      "File \u001b[1;32m~\\AppData\\Local\\Packages\\PythonSoftwareFoundation.Python.3.11_qbz5n2kfra8p0\\LocalCache\\local-packages\\Python311\\site-packages\\s3transfer\\futures.py:272\u001b[0m, in \u001b[0;36mTransferCoordinator.result\u001b[1;34m(self)\u001b[0m\n\u001b[0;32m    269\u001b[0m \u001b[38;5;66;03m# Once done waiting, raise an exception if present or return the\u001b[39;00m\n\u001b[0;32m    270\u001b[0m \u001b[38;5;66;03m# final result.\u001b[39;00m\n\u001b[0;32m    271\u001b[0m \u001b[38;5;28;01mif\u001b[39;00m \u001b[38;5;28mself\u001b[39m\u001b[38;5;241m.\u001b[39m_exception:\n\u001b[1;32m--> 272\u001b[0m     \u001b[38;5;28;01mraise\u001b[39;00m \u001b[38;5;28mself\u001b[39m\u001b[38;5;241m.\u001b[39m_exception\n\u001b[0;32m    273\u001b[0m \u001b[38;5;28;01mreturn\u001b[39;00m \u001b[38;5;28mself\u001b[39m\u001b[38;5;241m.\u001b[39m_result\n",
      "File \u001b[1;32m~\\AppData\\Local\\Packages\\PythonSoftwareFoundation.Python.3.11_qbz5n2kfra8p0\\LocalCache\\local-packages\\Python311\\site-packages\\s3transfer\\tasks.py:272\u001b[0m, in \u001b[0;36mSubmissionTask._main\u001b[1;34m(self, transfer_future, **kwargs)\u001b[0m\n\u001b[0;32m    268\u001b[0m     \u001b[38;5;28mself\u001b[39m\u001b[38;5;241m.\u001b[39m_transfer_coordinator\u001b[38;5;241m.\u001b[39mset_status_to_running()\n\u001b[0;32m    270\u001b[0m     \u001b[38;5;66;03m# Call the submit method to start submitting tasks to execute the\u001b[39;00m\n\u001b[0;32m    271\u001b[0m     \u001b[38;5;66;03m# transfer.\u001b[39;00m\n\u001b[1;32m--> 272\u001b[0m     \u001b[38;5;28;43mself\u001b[39;49m\u001b[38;5;241;43m.\u001b[39;49m\u001b[43m_submit\u001b[49m\u001b[43m(\u001b[49m\u001b[43mtransfer_future\u001b[49m\u001b[38;5;241;43m=\u001b[39;49m\u001b[43mtransfer_future\u001b[49m\u001b[43m,\u001b[49m\u001b[43m \u001b[49m\u001b[38;5;241;43m*\u001b[39;49m\u001b[38;5;241;43m*\u001b[39;49m\u001b[43mkwargs\u001b[49m\u001b[43m)\u001b[49m\n\u001b[0;32m    273\u001b[0m \u001b[38;5;28;01mexcept\u001b[39;00m \u001b[38;5;167;01mBaseException\u001b[39;00m \u001b[38;5;28;01mas\u001b[39;00m e:\n\u001b[0;32m    274\u001b[0m     \u001b[38;5;66;03m# If there was an exception raised during the submission of task\u001b[39;00m\n\u001b[0;32m    275\u001b[0m     \u001b[38;5;66;03m# there is a chance that the final task that signals if a transfer\u001b[39;00m\n\u001b[1;32m   (...)\u001b[0m\n\u001b[0;32m    284\u001b[0m \n\u001b[0;32m    285\u001b[0m     \u001b[38;5;66;03m# Set the exception, that caused the process to fail.\u001b[39;00m\n\u001b[0;32m    286\u001b[0m     \u001b[38;5;28mself\u001b[39m\u001b[38;5;241m.\u001b[39m_log_and_set_exception(e)\n",
      "File \u001b[1;32m~\\AppData\\Local\\Packages\\PythonSoftwareFoundation.Python.3.11_qbz5n2kfra8p0\\LocalCache\\local-packages\\Python311\\site-packages\\s3transfer\\download.py:352\u001b[0m, in \u001b[0;36mDownloadSubmissionTask._submit\u001b[1;34m(self, client, config, osutil, request_executor, io_executor, transfer_future, bandwidth_limiter)\u001b[0m\n\u001b[0;32m    323\u001b[0m \u001b[38;5;250m\u001b[39m\u001b[38;5;124;03m\"\"\"\u001b[39;00m\n\u001b[0;32m    324\u001b[0m \u001b[38;5;124;03m:param client: The client associated with the transfer manager\u001b[39;00m\n\u001b[0;32m    325\u001b[0m \n\u001b[1;32m   (...)\u001b[0m\n\u001b[0;32m    347\u001b[0m \u001b[38;5;124;03m    downloading streams\u001b[39;00m\n\u001b[0;32m    348\u001b[0m \u001b[38;5;124;03m\"\"\"\u001b[39;00m\n\u001b[0;32m    349\u001b[0m \u001b[38;5;28;01mif\u001b[39;00m transfer_future\u001b[38;5;241m.\u001b[39mmeta\u001b[38;5;241m.\u001b[39msize \u001b[38;5;129;01mis\u001b[39;00m \u001b[38;5;28;01mNone\u001b[39;00m:\n\u001b[0;32m    350\u001b[0m     \u001b[38;5;66;03m# If a size was not provided figure out the size for the\u001b[39;00m\n\u001b[0;32m    351\u001b[0m     \u001b[38;5;66;03m# user.\u001b[39;00m\n\u001b[1;32m--> 352\u001b[0m     response \u001b[38;5;241m=\u001b[39m \u001b[43mclient\u001b[49m\u001b[38;5;241;43m.\u001b[39;49m\u001b[43mhead_object\u001b[49m\u001b[43m(\u001b[49m\n\u001b[0;32m    353\u001b[0m \u001b[43m        \u001b[49m\u001b[43mBucket\u001b[49m\u001b[38;5;241;43m=\u001b[39;49m\u001b[43mtransfer_future\u001b[49m\u001b[38;5;241;43m.\u001b[39;49m\u001b[43mmeta\u001b[49m\u001b[38;5;241;43m.\u001b[39;49m\u001b[43mcall_args\u001b[49m\u001b[38;5;241;43m.\u001b[39;49m\u001b[43mbucket\u001b[49m\u001b[43m,\u001b[49m\n\u001b[0;32m    354\u001b[0m \u001b[43m        \u001b[49m\u001b[43mKey\u001b[49m\u001b[38;5;241;43m=\u001b[39;49m\u001b[43mtransfer_future\u001b[49m\u001b[38;5;241;43m.\u001b[39;49m\u001b[43mmeta\u001b[49m\u001b[38;5;241;43m.\u001b[39;49m\u001b[43mcall_args\u001b[49m\u001b[38;5;241;43m.\u001b[39;49m\u001b[43mkey\u001b[49m\u001b[43m,\u001b[49m\n\u001b[0;32m    355\u001b[0m \u001b[43m        \u001b[49m\u001b[38;5;241;43m*\u001b[39;49m\u001b[38;5;241;43m*\u001b[39;49m\u001b[43mtransfer_future\u001b[49m\u001b[38;5;241;43m.\u001b[39;49m\u001b[43mmeta\u001b[49m\u001b[38;5;241;43m.\u001b[39;49m\u001b[43mcall_args\u001b[49m\u001b[38;5;241;43m.\u001b[39;49m\u001b[43mextra_args\u001b[49m\u001b[43m,\u001b[49m\n\u001b[0;32m    356\u001b[0m \u001b[43m    \u001b[49m\u001b[43m)\u001b[49m\n\u001b[0;32m    357\u001b[0m     transfer_future\u001b[38;5;241m.\u001b[39mmeta\u001b[38;5;241m.\u001b[39mprovide_transfer_size(\n\u001b[0;32m    358\u001b[0m         response[\u001b[38;5;124m'\u001b[39m\u001b[38;5;124mContentLength\u001b[39m\u001b[38;5;124m'\u001b[39m]\n\u001b[0;32m    359\u001b[0m     )\n\u001b[0;32m    361\u001b[0m download_output_manager \u001b[38;5;241m=\u001b[39m \u001b[38;5;28mself\u001b[39m\u001b[38;5;241m.\u001b[39m_get_download_output_manager_cls(\n\u001b[0;32m    362\u001b[0m     transfer_future, osutil\n\u001b[0;32m    363\u001b[0m )(osutil, \u001b[38;5;28mself\u001b[39m\u001b[38;5;241m.\u001b[39m_transfer_coordinator, io_executor)\n",
      "File \u001b[1;32m~\\AppData\\Local\\Packages\\PythonSoftwareFoundation.Python.3.11_qbz5n2kfra8p0\\LocalCache\\local-packages\\Python311\\site-packages\\botocore\\client.py:595\u001b[0m, in \u001b[0;36mClientCreator._create_api_method.<locals>._api_call\u001b[1;34m(self, *args, **kwargs)\u001b[0m\n\u001b[0;32m    591\u001b[0m     \u001b[38;5;28;01mraise\u001b[39;00m \u001b[38;5;167;01mTypeError\u001b[39;00m(\n\u001b[0;32m    592\u001b[0m         \u001b[38;5;124mf\u001b[39m\u001b[38;5;124m\"\u001b[39m\u001b[38;5;132;01m{\u001b[39;00mpy_operation_name\u001b[38;5;132;01m}\u001b[39;00m\u001b[38;5;124m() only accepts keyword arguments.\u001b[39m\u001b[38;5;124m\"\u001b[39m\n\u001b[0;32m    593\u001b[0m     )\n\u001b[0;32m    594\u001b[0m \u001b[38;5;66;03m# The \"self\" in this scope is referring to the BaseClient.\u001b[39;00m\n\u001b[1;32m--> 595\u001b[0m \u001b[38;5;28;01mreturn\u001b[39;00m \u001b[38;5;28;43mself\u001b[39;49m\u001b[38;5;241;43m.\u001b[39;49m\u001b[43m_make_api_call\u001b[49m\u001b[43m(\u001b[49m\u001b[43moperation_name\u001b[49m\u001b[43m,\u001b[49m\u001b[43m \u001b[49m\u001b[43mkwargs\u001b[49m\u001b[43m)\u001b[49m\n",
      "File \u001b[1;32m~\\AppData\\Local\\Packages\\PythonSoftwareFoundation.Python.3.11_qbz5n2kfra8p0\\LocalCache\\local-packages\\Python311\\site-packages\\botocore\\context.py:123\u001b[0m, in \u001b[0;36mwith_current_context.<locals>.decorator.<locals>.wrapper\u001b[1;34m(*args, **kwargs)\u001b[0m\n\u001b[0;32m    121\u001b[0m \u001b[38;5;28;01mif\u001b[39;00m hook:\n\u001b[0;32m    122\u001b[0m     hook()\n\u001b[1;32m--> 123\u001b[0m \u001b[38;5;28;01mreturn\u001b[39;00m \u001b[43mfunc\u001b[49m\u001b[43m(\u001b[49m\u001b[38;5;241;43m*\u001b[39;49m\u001b[43margs\u001b[49m\u001b[43m,\u001b[49m\u001b[43m \u001b[49m\u001b[38;5;241;43m*\u001b[39;49m\u001b[38;5;241;43m*\u001b[39;49m\u001b[43mkwargs\u001b[49m\u001b[43m)\u001b[49m\n",
      "File \u001b[1;32m~\\AppData\\Local\\Packages\\PythonSoftwareFoundation.Python.3.11_qbz5n2kfra8p0\\LocalCache\\local-packages\\Python311\\site-packages\\botocore\\client.py:1058\u001b[0m, in \u001b[0;36mBaseClient._make_api_call\u001b[1;34m(self, operation_name, api_params)\u001b[0m\n\u001b[0;32m   1054\u001b[0m     error_code \u001b[38;5;241m=\u001b[39m error_info\u001b[38;5;241m.\u001b[39mget(\u001b[38;5;124m\"\u001b[39m\u001b[38;5;124mQueryErrorCode\u001b[39m\u001b[38;5;124m\"\u001b[39m) \u001b[38;5;129;01mor\u001b[39;00m error_info\u001b[38;5;241m.\u001b[39mget(\n\u001b[0;32m   1055\u001b[0m         \u001b[38;5;124m\"\u001b[39m\u001b[38;5;124mCode\u001b[39m\u001b[38;5;124m\"\u001b[39m\n\u001b[0;32m   1056\u001b[0m     )\n\u001b[0;32m   1057\u001b[0m     error_class \u001b[38;5;241m=\u001b[39m \u001b[38;5;28mself\u001b[39m\u001b[38;5;241m.\u001b[39mexceptions\u001b[38;5;241m.\u001b[39mfrom_code(error_code)\n\u001b[1;32m-> 1058\u001b[0m     \u001b[38;5;28;01mraise\u001b[39;00m error_class(parsed_response, operation_name)\n\u001b[0;32m   1059\u001b[0m \u001b[38;5;28;01melse\u001b[39;00m:\n\u001b[0;32m   1060\u001b[0m     \u001b[38;5;28;01mreturn\u001b[39;00m parsed_response\n",
      "\u001b[1;31mClientError\u001b[0m: An error occurred (403) when calling the HeadObject operation: Forbidden"
     ]
    }
   ],
   "source": [
    "import boto3\n",
    "from botocore.client import Config\n",
    "\n",
    "# Kết nối tới MinIO server\n",
    "s3 = boto3.client(\n",
    "    's3',\n",
    "    endpoint_url='http://localhost:9000',\n",
    "    aws_access_key_id='student01',\n",
    "    aws_secret_access_key='abc12345',\n",
    "    config=Config(signature_version='s3v4'),\n",
    "    region_name='us-east-1'\n",
    ")\n",
    "\n",
    "# Tải file từ bucket\n",
    "s3.download_file('iot-lab-demo', 'data_house.csv', 'temp.csv')\n",
    "\n",
    "print(\"Download thành công!\")\n"
   ]
  }
 ],
 "metadata": {
  "kernelspec": {
   "display_name": "Python 3",
   "language": "python",
   "name": "python3"
  },
  "language_info": {
   "codemirror_mode": {
    "name": "ipython",
    "version": 3
   },
   "file_extension": ".py",
   "mimetype": "text/x-python",
   "name": "python",
   "nbconvert_exporter": "python",
   "pygments_lexer": "ipython3",
   "version": "3.11.9"
  }
 },
 "nbformat": 4,
 "nbformat_minor": 5
}
